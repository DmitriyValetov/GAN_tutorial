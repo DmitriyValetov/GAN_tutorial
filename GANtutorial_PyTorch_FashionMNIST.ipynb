{
 "cells": [
  {
   "cell_type": "markdown",
   "metadata": {
    "deletable": true,
    "editable": true
   },
   "source": [
    "<center>\n",
    "<h1>Intro Tutorial on GANs</h1>\n",
    "Fermilab - March 21, 2018\n",
    "</center>"
   ]
  },
  {
   "cell_type": "markdown",
   "metadata": {},
   "source": [
    "This tutorial is based on Yunjey Choi's tutorials available here: https://github.com/yunjey/pytorch-tutorial"
   ]
  },
  {
   "cell_type": "code",
   "execution_count": 187,
   "metadata": {
    "collapsed": true,
    "deletable": true,
    "editable": true
   },
   "outputs": [],
   "source": [
    "import numpy as np\n",
    "import matplotlib.pyplot as plt\n",
    "%matplotlib inline"
   ]
  },
  {
   "cell_type": "markdown",
   "metadata": {},
   "source": [
    "<p>In this tutorial, we will be using: <img src=\"https://cdn-images-1.medium.com/max/1200/1*jcZLpgh3gppeFFgcpFSP0w.jpeg\" width=\"300\" align=\"top\">\n",
    "\n",
    " > a deep learning framework that puts Python first.\n",
    "\n",
    "<div align=\"center\">- http://pytorch.org/</div>"
   ]
  },
  {
   "cell_type": "markdown",
   "metadata": {},
   "source": [
    "Follow the instructions on the [PyTorch website](http://pytorch.org/) to install."
   ]
  },
  {
   "cell_type": "code",
   "execution_count": 2,
   "metadata": {
    "collapsed": true
   },
   "outputs": [],
   "source": [
    "import torch\n",
    "from torchvision import datasets, transforms"
   ]
  },
  {
   "cell_type": "code",
   "execution_count": 3,
   "metadata": {
    "collapsed": false,
    "deletable": true,
    "editable": true
   },
   "outputs": [
    {
     "data": {
      "text/plain": [
       "'0.3.1'"
      ]
     },
     "execution_count": 3,
     "metadata": {},
     "output_type": "execute_result"
    }
   ],
   "source": [
    "torch.__version__"
   ]
  },
  {
   "cell_type": "markdown",
   "metadata": {},
   "source": [
    "`torchvision` comes with many standard machine learning datasets that are perfect to get started. To avoid spending half of our time on data wrangling, we'll use one of these, specifically, the *FashionMNIST* dataset [[arxiv:1708.07747](https://arxiv.org/abs/1708.07747)]. "
   ]
  },
  {
   "cell_type": "markdown",
   "metadata": {},
   "source": [
    "**Note**:\n",
    "If afterwards you want to play around with a HEP dataset, feel free to try out the jet-images dataset our group produced for our LAGAN work [[Comput Softw Big Sci (2017) 1: 4](https://link.springer.com/article/10.1007/s41781-017-0004-6)]:\n",
    "\n",
    "[![DOI](https://zenodo.org/badge/DOI/10.17632/4r4v785rgx.1.svg)](https://doi.org/10.17632/4r4v785rgx.1)\n",
    "<a href=\"https://zenodo.org/record/269622#.WgZFPRNSyRs\"><img src=\"https://github.com/YaleATLAS/CERNDeepLearningTutorial/raw/master/images/zenodo.jpg\"></a>"
   ]
  },
  {
   "cell_type": "markdown",
   "metadata": {},
   "source": [
    "In that case, you'd have to create your own custom dataset class that inherits from the abstract PyTorch `Dataset` class. All custom datasets should subclass it, and override `__len__`, that provides the size of the dataset, and `__getitem__`, supporting integer indexing in range from `0` to `len(self)` exclusive.\n",
    "\n",
    "Anyways, back to *FashionMNIST*..."
   ]
  },
  {
   "cell_type": "code",
   "execution_count": null,
   "metadata": {
    "collapsed": false
   },
   "outputs": [],
   "source": [
    "datasets."
   ]
  },
  {
   "cell_type": "code",
   "execution_count": null,
   "metadata": {
    "collapsed": true
   },
   "outputs": [],
   "source": [
    "datasets.FashionMNIST?"
   ]
  },
  {
   "cell_type": "markdown",
   "metadata": {},
   "source": [
    "`torchvision` already provides us with most transformations we might want to apply to our images, and a way to compose them into a sequence of operations."
   ]
  },
  {
   "cell_type": "code",
   "execution_count": 4,
   "metadata": {
    "collapsed": false,
    "deletable": true,
    "editable": true
   },
   "outputs": [],
   "source": [
    "transform = transforms.Compose([\n",
    "                transforms.ToTensor(),\n",
    "                transforms.Lambda(lambda x : 2 * x - 1) # normalize to be in [-1, 1]\n",
    "            ])"
   ]
  },
  {
   "cell_type": "code",
   "execution_count": 5,
   "metadata": {
    "collapsed": false,
    "deletable": true,
    "editable": true
   },
   "outputs": [],
   "source": [
    "dataset = datasets.FashionMNIST(\n",
    "    root='./data',\n",
    "    train=True,\n",
    "    transform=transform,\n",
    "    download=True\n",
    ")"
   ]
  },
  {
   "cell_type": "markdown",
   "metadata": {},
   "source": [
    "## Data Inspection"
   ]
  },
  {
   "cell_type": "markdown",
   "metadata": {},
   "source": [
    "In analogy with the <a href=\"http://yann.lecun.com/exdb/mnist/\">MNIST dataset of handwritten digits</a>, the *FashionMNIST* dataset is a 10-class grayscale image dataset, where each class corresponds to a type of fashion item."
   ]
  },
  {
   "cell_type": "code",
   "execution_count": 6,
   "metadata": {
    "collapsed": false
   },
   "outputs": [
    {
     "data": {
      "text/plain": [
       "array([0, 1, 2, 3, 4, 5, 6, 7, 8, 9])"
      ]
     },
     "execution_count": 6,
     "metadata": {},
     "output_type": "execute_result"
    }
   ],
   "source": [
    "# check that there exist 10 different classes\n",
    "np.unique(dataset.train_labels)"
   ]
  },
  {
   "cell_type": "code",
   "execution_count": 7,
   "metadata": {
    "collapsed": false
   },
   "outputs": [
    {
     "data": {
      "image/png": "[encoded data removed]",
      "text/plain": [
       "<matplotlib.figure.Figure at 0x1155c45d0>"
      ]
     },
     "metadata": {},
     "output_type": "display_data"
    }
   ],
   "source": [
    "# check class proportions\n",
    "plt.hist(dataset.train_labels,\n",
    "         bins=np.linspace(0, 9.5, 20))\n",
    "\n",
    "_ = plt.xticks(range(10))\n",
    "plt.xlabel('Class ID')\n",
    "plt.ylabel('Number of Samples')\n",
    "plt.show()"
   ]
  },
  {
   "cell_type": "code",
   "execution_count": 8,
   "metadata": {
    "collapsed": false,
    "scrolled": false
   },
   "outputs": [
    {
     "data": {
      "image/png": "[encoded data removed]",
      "text/plain": [
       "<matplotlib.figure.Figure at 0x118566890>"
      ]
     },
     "metadata": {},
     "output_type": "display_data"
    }
   ],
   "source": [
    "# plot 5 examples from each class\n",
    "n_images = 5\n",
    "\n",
    "f, axarr = plt.subplots(len(np.unique(dataset.train_labels)), n_images, figsize=(10, 10))\n",
    "f.subplots_adjust(wspace=-0.7)\n",
    "\n",
    "for n_class in np.unique(dataset.train_labels):\n",
    "    # annotate axis with class\n",
    "    axarr[n_class, 0].text(-20, 20, str(n_class), size=20, weight='bold')\n",
    "    # plot 5 images\n",
    "    for n_img, image in enumerate(dataset.train_data.numpy()[dataset.train_labels.numpy() == n_class][:n_images]):\n",
    "        axarr[n_class, n_img].imshow(image, interpolation='bilinear', cmap='Greys')\n",
    "        axarr[n_class, n_img].axis('off')\n",
    "        "
   ]
  },
  {
   "cell_type": "markdown",
   "metadata": {},
   "source": [
    "## PyTorch DataLoader"
   ]
  },
  {
   "cell_type": "markdown",
   "metadata": {},
   "source": [
    "PyTorch takes care of lots of data handling for you through the convenient `DataLoader` class. A `DataLoader` allows you to iterate through your dataset and yield batches from it with a few niceties attached."
   ]
  },
  {
   "cell_type": "markdown",
   "metadata": {},
   "source": [
    "<img src=\"./dataloader.jpg\">"
   ]
  },
  {
   "cell_type": "code",
   "execution_count": 9,
   "metadata": {
    "collapsed": false,
    "deletable": true,
    "editable": true
   },
   "outputs": [],
   "source": [
    "BATCH_SIZE = 100\n",
    "data_loader = torch.utils.data.DataLoader(dataset=dataset,\n",
    "                                          batch_size=BATCH_SIZE, \n",
    "                                          shuffle=True,\n",
    "                                          num_workers=3)\n",
    "# pin_memory if you're on GPU"
   ]
  },
  {
   "cell_type": "code",
   "execution_count": 11,
   "metadata": {
    "collapsed": false
   },
   "outputs": [],
   "source": [
    "n_batches = int(np.ceil(len(dataset)/ BATCH_SIZE)) # 60000 / 100"
   ]
  },
  {
   "cell_type": "markdown",
   "metadata": {},
   "source": [
    "## Model Design"
   ]
  },
  {
   "cell_type": "markdown",
   "metadata": {},
   "source": [
    "`torch.nn` contains all the ingredients to start building your networks. \n",
    "\n",
    "PyTorch is still in beta, so there are no well-defined best practices and lots of ways of doing the same thing, some that are safer and limited in scope, and some that provide you with more flexibility, should you need it."
   ]
  },
  {
   "cell_type": "code",
   "execution_count": 178,
   "metadata": {
    "collapsed": true
   },
   "outputs": [],
   "source": [
    "from torch import nn"
   ]
  },
  {
   "cell_type": "markdown",
   "metadata": {},
   "source": [
    "`torch.nn.Sequential` is a container that allows you to specify Modules to be added to your model in the order they are passed into the constructor. Alternatively, you can also pass them as an `OrderedDict`."
   ]
  },
  {
   "cell_type": "code",
   "execution_count": 179,
   "metadata": {
    "collapsed": true
   },
   "outputs": [],
   "source": [
    "# Discriminator\n",
    "D = nn.Sequential(\n",
    "    nn.Linear(28 * 28, 256),\n",
    "    nn.LeakyReLU(0.2),\n",
    "    nn.Linear(256, 256),\n",
    "    nn.LeakyReLU(0.2),\n",
    "    nn.Linear(256, 256),\n",
    "    nn.LeakyReLU(0.2),\n",
    "    nn.Linear(256, 256),\n",
    "    nn.LeakyReLU(0.2),\n",
    "    nn.Linear(256, 1),\n",
    "    nn.Sigmoid()\n",
    ")\n",
    "\n",
    "# Generator \n",
    "G = nn.Sequential(\n",
    "    nn.Linear(64, 256),\n",
    "    nn.LeakyReLU(0.2),\n",
    "    nn.Linear(256, 256),\n",
    "    nn.LeakyReLU(0.2),\n",
    "    nn.Linear(256, 256),\n",
    "    nn.LeakyReLU(0.2),\n",
    "    nn.Linear(256, 256),\n",
    "    nn.LeakyReLU(0.2),\n",
    "    nn.Linear(256, 28 * 28),\n",
    "    nn.Tanh()\n",
    ")\n",
    "\n",
    "# if you're running on GPU, move models there\n",
    "if torch.cuda.is_available():\n",
    "    D.cuda()\n",
    "    G.cuda()"
   ]
  },
  {
   "cell_type": "markdown",
   "metadata": {},
   "source": [
    "Define your loss function and optimizer by picking from the ones already available in `torch.nn` or defining your own. Note that an optimizer is defined in terms of the network parameters that it's assigned to optimize."
   ]
  },
  {
   "cell_type": "code",
   "execution_count": 180,
   "metadata": {
    "collapsed": false
   },
   "outputs": [],
   "source": [
    "# Define your loss function and optimizer by picking from the ones already available in `torch.nn` or defining your own\n",
    "criterion = nn.BCELoss() # Or remove nn.Sigmoid() and use \n",
    "d_optimizer = torch.optim.Adam(D.parameters(), lr=0.0003)\n",
    "g_optimizer = torch.optim.Adam(G.parameters(), lr=0.0003)"
   ]
  },
  {
   "cell_type": "markdown",
   "metadata": {},
   "source": [
    "## Training Procedure"
   ]
  },
  {
   "cell_type": "markdown",
   "metadata": {},
   "source": [
    "A `Variable` is a node in a computational graph that allows for automatic differentiation across the graph. A `Variable` wraps a PyTorch `Tensor`, though the two concepts will soon be unified. `x.data` gives you access to the `Tensor` wrapped by the `Variable x`."
   ]
  },
  {
   "cell_type": "code",
   "execution_count": 181,
   "metadata": {
    "collapsed": true
   },
   "outputs": [],
   "source": [
    "from torch.autograd import Variable\n",
    "\n",
    "def to_var(x):\n",
    "    # first move to GPU, if necessary\n",
    "    if torch.cuda.is_available():\n",
    "        x = x.cuda()\n",
    "    return Variable(x)"
   ]
  },
  {
   "cell_type": "code",
   "execution_count": 182,
   "metadata": {
    "collapsed": true
   },
   "outputs": [],
   "source": [
    "import torch.nn.functional as F\n",
    "from torchvision.utils import save_image\n",
    "\n",
    "def denorm(x):\n",
    "    # convert back from [-1, 1] to [0, 1]\n",
    "    out = (x + 1) / 2\n",
    "    return out #out.clamp(0, 1)"
   ]
  },
  {
   "cell_type": "markdown",
   "metadata": {},
   "source": [
    "PyTorch allows you to build **dynamic graphs** in a very intuitive and pythonic way. \n",
    "\n",
    "You should write the training loop yourself, looping through the epochs and the batches.\n",
    "\n",
    "Although this adds additional boilerplate and room for error when compared to libraries like Keras, this dynamic construction gives the flexibility required for exotic train loops that do not fit the `model.fit(...)` paradigm, such as GANs."
   ]
  },
  {
   "cell_type": "code",
   "execution_count": 183,
   "metadata": {
    "collapsed": false
   },
   "outputs": [
    {
     "name": "stdout",
     "output_type": "stream",
     "text": [
      "Epoch [0/200], Step[300/600], d_loss: 0.0857, g_loss: 6.5182, Mean D(x): 0.96, Mean D(G(z)): 0.04\n",
      "Epoch [0/200], Step[600/600], d_loss: 0.0276, g_loss: 7.9944, Mean D(x): 0.99, Mean D(G(z)): 0.00\n",
      "Epoch [1/200], Step[300/600], d_loss: 0.0028, g_loss: 22.8708, Mean D(x): 1.00, Mean D(G(z)): 0.00\n",
      "Epoch [1/200], Step[600/600], d_loss: 0.0687, g_loss: 6.6256, Mean D(x): 0.98, Mean D(G(z)): 0.02\n",
      "Epoch [2/200], Step[300/600], d_loss: 0.1094, g_loss: 5.4286, Mean D(x): 0.96, Mean D(G(z)): 0.01\n",
      "Epoch [2/200], Step[600/600], d_loss: 0.1672, g_loss: 5.4723, Mean D(x): 0.97, Mean D(G(z)): 0.08\n",
      "Epoch [3/200], Step[300/600], d_loss: 0.2349, g_loss: 4.6317, Mean D(x): 0.91, Mean D(G(z)): 0.04\n",
      "Epoch [3/200], Step[600/600], d_loss: 0.2159, g_loss: 3.8911, Mean D(x): 0.96, Mean D(G(z)): 0.12\n",
      "Epoch [4/200], Step[300/600], d_loss: 0.2657, g_loss: 3.4243, Mean D(x): 0.88, Mean D(G(z)): 0.05\n",
      "Epoch [4/200], Step[600/600], d_loss: 0.1995, g_loss: 4.1142, Mean D(x): 0.95, Mean D(G(z)): 0.03\n",
      "Epoch [5/200], Step[300/600], d_loss: 0.1106, g_loss: 4.5985, Mean D(x): 0.96, Mean D(G(z)): 0.02\n",
      "Epoch [5/200], Step[600/600], d_loss: 0.6206, g_loss: 3.7068, Mean D(x): 0.83, Mean D(G(z)): 0.10\n",
      "Epoch [6/200], Step[300/600], d_loss: 0.1420, g_loss: 5.4195, Mean D(x): 0.94, Mean D(G(z)): 0.03\n",
      "Epoch [6/200], Step[600/600], d_loss: 0.5061, g_loss: 3.3083, Mean D(x): 0.88, Mean D(G(z)): 0.15\n",
      "Epoch [7/200], Step[300/600], d_loss: 0.0515, g_loss: 5.5556, Mean D(x): 1.00, Mean D(G(z)): 0.04\n",
      "Epoch [7/200], Step[600/600], d_loss: 0.2804, g_loss: 3.5817, Mean D(x): 0.94, Mean D(G(z)): 0.14\n",
      "Epoch [8/200], Step[300/600], d_loss: 0.2405, g_loss: 4.6591, Mean D(x): 0.95, Mean D(G(z)): 0.09\n",
      "Epoch [8/200], Step[600/600], d_loss: 0.4055, g_loss: 2.8350, Mean D(x): 0.94, Mean D(G(z)): 0.17\n",
      "Epoch [9/200], Step[300/600], d_loss: 0.2452, g_loss: 3.4587, Mean D(x): 0.92, Mean D(G(z)): 0.06\n",
      "Epoch [9/200], Step[600/600], d_loss: 0.5000, g_loss: 4.1039, Mean D(x): 0.86, Mean D(G(z)): 0.13\n",
      "Epoch [10/200], Step[300/600], d_loss: 0.2566, g_loss: 3.6137, Mean D(x): 0.94, Mean D(G(z)): 0.08\n",
      "Epoch [10/200], Step[600/600], d_loss: 0.2319, g_loss: 5.2322, Mean D(x): 0.93, Mean D(G(z)): 0.04\n",
      "Epoch [11/200], Step[300/600], d_loss: 0.2326, g_loss: 3.8895, Mean D(x): 0.92, Mean D(G(z)): 0.09\n",
      "Epoch [11/200], Step[600/600], d_loss: 0.2875, g_loss: 4.0517, Mean D(x): 0.92, Mean D(G(z)): 0.04\n",
      "Epoch [12/200], Step[300/600], d_loss: 0.1495, g_loss: 3.9556, Mean D(x): 0.95, Mean D(G(z)): 0.07\n",
      "Epoch [12/200], Step[600/600], d_loss: 0.2284, g_loss: 4.5656, Mean D(x): 0.92, Mean D(G(z)): 0.04\n",
      "Epoch [13/200], Step[300/600], d_loss: 0.4069, g_loss: 2.4821, Mean D(x): 0.90, Mean D(G(z)): 0.20\n",
      "Epoch [13/200], Step[600/600], d_loss: 0.2904, g_loss: 3.3561, Mean D(x): 0.94, Mean D(G(z)): 0.14\n",
      "Epoch [14/200], Step[300/600], d_loss: 0.6113, g_loss: 3.1253, Mean D(x): 0.85, Mean D(G(z)): 0.10\n",
      "Epoch [14/200], Step[600/600], d_loss: 0.5044, g_loss: 2.9604, Mean D(x): 0.87, Mean D(G(z)): 0.07\n",
      "Epoch [15/200], Step[300/600], d_loss: 0.6719, g_loss: 2.2631, Mean D(x): 0.91, Mean D(G(z)): 0.31\n",
      "Epoch [15/200], Step[600/600], d_loss: 0.5449, g_loss: 3.3628, Mean D(x): 0.82, Mean D(G(z)): 0.08\n",
      "Epoch [16/200], Step[300/600], d_loss: 0.4275, g_loss: 2.8112, Mean D(x): 0.87, Mean D(G(z)): 0.11\n",
      "Epoch [16/200], Step[600/600], d_loss: 0.3978, g_loss: 2.7684, Mean D(x): 0.87, Mean D(G(z)): 0.10\n",
      "Epoch [17/200], Step[300/600], d_loss: 0.3479, g_loss: 2.2048, Mean D(x): 0.90, Mean D(G(z)): 0.15\n",
      "Epoch [17/200], Step[600/600], d_loss: 0.4781, g_loss: 3.0283, Mean D(x): 0.81, Mean D(G(z)): 0.08\n",
      "Epoch [18/200], Step[300/600], d_loss: 0.4484, g_loss: 2.6121, Mean D(x): 0.88, Mean D(G(z)): 0.13\n",
      "Epoch [18/200], Step[600/600], d_loss: 0.3254, g_loss: 2.9122, Mean D(x): 0.88, Mean D(G(z)): 0.08\n",
      "Epoch [19/200], Step[300/600], d_loss: 0.5787, g_loss: 2.3322, Mean D(x): 0.84, Mean D(G(z)): 0.12\n",
      "Epoch [19/200], Step[600/600], d_loss: 0.2686, g_loss: 3.4629, Mean D(x): 0.96, Mean D(G(z)): 0.14\n",
      "Epoch [20/200], Step[300/600], d_loss: 0.3895, g_loss: 2.5100, Mean D(x): 0.88, Mean D(G(z)): 0.12\n",
      "Epoch [20/200], Step[600/600], d_loss: 0.6229, g_loss: 3.2401, Mean D(x): 0.89, Mean D(G(z)): 0.18\n",
      "Epoch [21/200], Step[300/600], d_loss: 0.6231, g_loss: 2.7264, Mean D(x): 0.82, Mean D(G(z)): 0.18\n",
      "Epoch [21/200], Step[600/600], d_loss: 0.3991, g_loss: 3.0471, Mean D(x): 0.93, Mean D(G(z)): 0.13\n",
      "Epoch [22/200], Step[300/600], d_loss: 0.2345, g_loss: 3.1791, Mean D(x): 0.94, Mean D(G(z)): 0.12\n",
      "Epoch [22/200], Step[600/600], d_loss: 0.5731, g_loss: 2.4742, Mean D(x): 0.82, Mean D(G(z)): 0.13\n",
      "Epoch [23/200], Step[300/600], d_loss: 0.3684, g_loss: 3.1144, Mean D(x): 0.90, Mean D(G(z)): 0.15\n",
      "Epoch [23/200], Step[600/600], d_loss: 0.3190, g_loss: 2.3281, Mean D(x): 0.90, Mean D(G(z)): 0.12\n",
      "Epoch [24/200], Step[300/600], d_loss: 0.4453, g_loss: 2.2882, Mean D(x): 0.90, Mean D(G(z)): 0.20\n",
      "Epoch [24/200], Step[600/600], d_loss: 0.3144, g_loss: 3.9072, Mean D(x): 0.97, Mean D(G(z)): 0.17\n",
      "Epoch [25/200], Step[300/600], d_loss: 0.5402, g_loss: 2.1536, Mean D(x): 0.85, Mean D(G(z)): 0.18\n",
      "Epoch [25/200], Step[600/600], d_loss: 0.4402, g_loss: 3.0480, Mean D(x): 0.88, Mean D(G(z)): 0.16\n",
      "Epoch [26/200], Step[300/600], d_loss: 0.8300, g_loss: 2.7512, Mean D(x): 0.81, Mean D(G(z)): 0.23\n",
      "Epoch [26/200], Step[600/600], d_loss: 0.3613, g_loss: 2.3010, Mean D(x): 0.89, Mean D(G(z)): 0.14\n",
      "Epoch [27/200], Step[300/600], d_loss: 0.5713, g_loss: 2.2548, Mean D(x): 0.81, Mean D(G(z)): 0.17\n",
      "Epoch [27/200], Step[600/600], d_loss: 0.4170, g_loss: 2.4259, Mean D(x): 0.89, Mean D(G(z)): 0.17\n",
      "Epoch [28/200], Step[300/600], d_loss: 0.4892, g_loss: 2.8953, Mean D(x): 0.89, Mean D(G(z)): 0.22\n",
      "Epoch [28/200], Step[600/600], d_loss: 0.6379, g_loss: 2.1994, Mean D(x): 0.83, Mean D(G(z)): 0.18\n",
      "Epoch [29/200], Step[300/600], d_loss: 0.4402, g_loss: 2.5160, Mean D(x): 0.86, Mean D(G(z)): 0.13\n",
      "Epoch [29/200], Step[600/600], d_loss: 0.4108, g_loss: 2.1150, Mean D(x): 0.92, Mean D(G(z)): 0.18\n",
      "Epoch [30/200], Step[300/600], d_loss: 0.6646, g_loss: 1.8081, Mean D(x): 0.76, Mean D(G(z)): 0.15\n",
      "Epoch [30/200], Step[600/600], d_loss: 0.5257, g_loss: 2.1788, Mean D(x): 0.82, Mean D(G(z)): 0.18\n"
     ]
    },
    {
     "name": "stderr",
     "output_type": "stream",
     "text": [
      "Process Process-306:\n",
      "Process Process-305:\n",
      "Traceback (most recent call last):\n",
      "Traceback (most recent call last):\n",
      "Process Process-304:\n",
      "  File \"/usr/local/Cellar/python/2.7.10_2/Frameworks/Python.framework/Versions/2.7/lib/python2.7/multiprocessing/process.py\", line 258, in _bootstrap\n",
      "  File \"/usr/local/Cellar/python/2.7.10_2/Frameworks/Python.framework/Versions/2.7/lib/python2.7/multiprocessing/process.py\", line 258, in _bootstrap\n",
      "Traceback (most recent call last):\n",
      "    self.run()\n"
     ]
    },
    {
     "name": "stdout",
     "output_type": "stream",
     "text": [
      "Training ended early.\n"
     ]
    },
    {
     "name": "stderr",
     "output_type": "stream",
     "text": [
      "    self.run()\n",
      "  File \"/usr/local/Cellar/python/2.7.10_2/Frameworks/Python.framework/Versions/2.7/lib/python2.7/multiprocessing/process.py\", line 258, in _bootstrap\n",
      "  File \"/usr/local/Cellar/python/2.7.10_2/Frameworks/Python.framework/Versions/2.7/lib/python2.7/multiprocessing/process.py\", line 114, in run\n"
     ]
    }
   ],
   "source": [
    "N_EPOCHS = 200\n",
    "\n",
    "try: # allow for manual keyboard interrupt\n",
    "    # loop through epochs\n",
    "    for epoch in range(N_EPOCHS):\n",
    "        # loop through batches (no need for class labels right now)\n",
    "        for batch_number, (images, _) in enumerate(data_loader): \n",
    "\n",
    "            # Reshape training dataset images from (batch_size, 28, 28) to (batch_size, 28*28) for \n",
    "            # processing through fully-connected net \n",
    "            batch_size = images.shape[0] # this specific batch size (last one may not be equal to BATCH_SIZE)\n",
    "            images = to_var(images.view(batch_size, -1))\n",
    "\n",
    "            # Create targets for the discriminator network D\n",
    "            # (can use label flipping or label smoothing)\n",
    "            real_labels = to_var(torch.ones(batch_size, 1)) \n",
    "            fake_labels = to_var(torch.zeros(batch_size, 1))\n",
    "\n",
    "            # 1) TRAIN DISCRIMINATOR\n",
    "            # Evaluate the discriminator on the real input images\n",
    "            outputs = D(images) # or D(add_instance_noise(images))\n",
    "            real_score = outputs\n",
    "            # Compute the discriminator loss with respect to the real labels (1s)\n",
    "            d_loss_real = criterion(outputs, real_labels)\n",
    "\n",
    "            # Draw random 64-dimensional noise vectors as inputs to the generator network\n",
    "            z = to_var(torch.randn(batch_size, 64)) # the latents space is 64D\n",
    "            # Transform the noise through the generator network to get synthetic images\n",
    "            fake_images = G(z)\n",
    "            # Evaluate the discriminator on the fake images\n",
    "            outputs = D(fake_images) # or D(add_instance_noise(fake_images))\n",
    "            fake_score = outputs\n",
    "            # Compute the discriminator loss with respect to the fake labels (0s)\n",
    "            d_loss_fake = criterion(outputs, fake_labels)\n",
    "\n",
    "            # Backprop + Optimize the discriminator\n",
    "            d_loss = d_loss_real + d_loss_fake\n",
    "            D.zero_grad()\n",
    "            d_loss.backward()\n",
    "            d_optimizer.step()\n",
    "\n",
    "            # 2) TRAIN GENERATOR\n",
    "            # Draw random 64-dimensional noise vectors as inputs to the generator network\n",
    "            z = to_var(torch.randn(batch_size, 64))\n",
    "            # Transform the noise through the generator network to get synthetic images\n",
    "            fake_images = G(z)\n",
    "            # Evaluate the (new) discriminator on the fake images\n",
    "            outputs = D(fake_images)\n",
    "\n",
    "            # Compute the cross-entropy loss with \"real\" as target (1s). This is what the G wants to do\n",
    "            g_loss = criterion(outputs, real_labels)\n",
    "\n",
    "            # Backprop + Optimize the generator\n",
    "            D.zero_grad() # probably unnecessary?\n",
    "            G.zero_grad()\n",
    "            g_loss.backward()\n",
    "            g_optimizer.step()\n",
    "\n",
    "            if (batch_number + 1) % 300 == 0:\n",
    "                print('Epoch [%d/%d], Step[%d/%d], d_loss: %.4f, '\n",
    "                      'g_loss: %.4f, Mean D(x): %.2f, Mean D(G(z)): %.2f' \n",
    "                      %(epoch,\n",
    "                        N_EPOCHS,\n",
    "                        batch_number + 1,\n",
    "                        n_batches,\n",
    "                        d_loss.data[0],\n",
    "                        g_loss.data[0],\n",
    "                        real_score.data.mean(),\n",
    "                        fake_score.data.mean())\n",
    "                )\n",
    "\n",
    "        # Save real images once\n",
    "        if (epoch + 1) == 1:\n",
    "            images = images.view(images.size(0), 1, 28, 28) # reshape\n",
    "            save_image(denorm(images.data), './data/real_images.png')\n",
    "\n",
    "        # Save sampled images\n",
    "        fake_images = fake_images.view(fake_images.size(0), 1, 28, 28) #reshape\n",
    "        save_image(denorm(fake_images.data), './data/fake_images-%0.3d.png' %(epoch + 1))\n",
    "        \n",
    "        # Save the trained parameters \n",
    "        torch.save(G.state_dict(), './weights/generator-%0.3d.pkl' %(epoch + 1))\n",
    "        torch.save(D.state_dict(), './weights/discriminator-%0.3d.pkl' %(epoch + 1))\n",
    "        \n",
    "except KeyboardInterrupt:\n",
    "    print 'Training ended early.'"
   ]
  },
  {
   "cell_type": "code",
   "execution_count": 217,
   "metadata": {
    "collapsed": false
   },
   "outputs": [
    {
     "data": {
      "application/javascript": [
       "/* Put everything inside the global mpl namespace */\n",
       "window.mpl = {};\n",
       "\n",
       "\n",
       "mpl.get_websocket_type = function() {\n",
       "    if (typeof(WebSocket) !== 'undefined') {\n",
       "        return WebSocket;\n",
       "    } else if (typeof(MozWebSocket) !== 'undefined') {\n",
       "        return MozWebSocket;\n",
       "    } else {\n",
       "        alert('Your browser does not have WebSocket support.' +\n",
       "              'Please try Chrome, Safari or Firefox ≥ 6. ' +\n",
       "              'Firefox 4 and 5 are also supported but you ' +\n",
       "              'have to enable WebSockets in about:config.');\n",
       "    };\n",
       "}\n",
       "\n",
       "mpl.figure = function(figure_id, websocket, ondownload, parent_element) {\n",
       "    this.id = figure_id;\n",
       "\n",
       "    this.ws = websocket;\n",
       "\n",
       "    this.supports_binary = (this.ws.binaryType != undefined);\n",
       "\n",
       "    if (!this.supports_binary) {\n",
       "        var warnings = document.getElementById(\"mpl-warnings\");\n",
       "        if (warnings) {\n",
       "            warnings.style.display = 'block';\n",
       "            warnings.textContent = (\n",
       "                \"This browser does not support binary websocket messages. \" +\n",
       "                    \"Performance may be slow.\");\n",
       "        }\n",
       "    }\n",
       "\n",
       "    this.imageObj = new Image();\n",
       "\n",
       "    this.context = undefined;\n",
       "    this.message = undefined;\n",
       "    this.canvas = undefined;\n",
       "    this.rubberband_canvas = undefined;\n",
       "    this.rubberband_context = undefined;\n",
       "    this.format_dropdown = undefined;\n",
       "\n",
       "    this.image_mode = 'full';\n",
       "\n",
       "    this.root = $('<div/>');\n",
       "    this._root_extra_style(this.root)\n",
       "    this.root.attr('style', 'display: inline-block');\n",
       "\n",
       "    $(parent_element).append(this.root);\n",
       "\n",
       "    this._init_header(this);\n",
       "    this._init_canvas(this);\n",
       "    this._init_toolbar(this);\n",
       "\n",
       "    var fig = this;\n",
       "\n",
       "    this.waiting = false;\n",
       "\n",
       "    this.ws.onopen =  function () {\n",
       "            fig.send_message(\"supports_binary\", {value: fig.supports_binary});\n",
       "            fig.send_message(\"send_image_mode\", {});\n",
       "            if (mpl.ratio != 1) {\n",
       "                fig.send_message(\"set_dpi_ratio\", {'dpi_ratio': mpl.ratio});\n",
       "            }\n",
       "            fig.send_message(\"refresh\", {});\n",
       "        }\n",
       "\n",
       "    this.imageObj.onload = function() {\n",
       "            if (fig.image_mode == 'full') {\n",
       "                // Full images could contain transparency (where diff images\n",
       "                // almost always do), so we need to clear the canvas so that\n",
       "                // there is no ghosting.\n",
       "                fig.context.clearRect(0, 0, fig.canvas.width, fig.canvas.height);\n",
       "            }\n",
       "            fig.context.drawImage(fig.imageObj, 0, 0);\n",
       "        };\n",
       "\n",
       "    this.imageObj.onunload = function() {\n",
       "        this.ws.close();\n",
       "    }\n",
       "\n",
       "    this.ws.onmessage = this._make_on_message_function(this);\n",
       "\n",
       "    this.ondownload = ondownload;\n",
       "}\n",
       "\n",
       "mpl.figure.prototype._init_header = function() {\n",
       "    var titlebar = $(\n",
       "        '<div class=\"ui-dialog-titlebar ui-widget-header ui-corner-all ' +\n",
       "        'ui-helper-clearfix\"/>');\n",
       "    var titletext = $(\n",
       "        '<div class=\"ui-dialog-title\" style=\"width: 100%; ' +\n",
       "        'text-align: center; padding: 3px;\"/>');\n",
       "    titlebar.append(titletext)\n",
       "    this.root.append(titlebar);\n",
       "    this.header = titletext[0];\n",
       "}\n",
       "\n",
       "\n",
       "\n",
       "mpl.figure.prototype._canvas_extra_style = function(canvas_div) {\n",
       "\n",
       "}\n",
       "\n",
       "\n",
       "mpl.figure.prototype._root_extra_style = function(canvas_div) {\n",
       "\n",
       "}\n",
       "\n",
       "mpl.figure.prototype._init_canvas = function() {\n",
       "    var fig = this;\n",
       "\n",
       "    var canvas_div = $('<div/>');\n",
       "\n",
       "    canvas_div.attr('style', 'position: relative; clear: both; outline: 0');\n",
       "\n",
       "    function canvas_keyboard_event(event) {\n",
       "        return fig.key_event(event, event['data']);\n",
       "    }\n",
       "\n",
       "    canvas_div.keydown('key_press', canvas_keyboard_event);\n",
       "    canvas_div.keyup('key_release', canvas_keyboard_event);\n",
       "    this.canvas_div = canvas_div\n",
       "    this._canvas_extra_style(canvas_div)\n",
       "    this.root.append(canvas_div);\n",
       "\n",
       "    var canvas = $('<canvas/>');\n",
       "    canvas.addClass('mpl-canvas');\n",
       "    canvas.attr('style', \"left: 0; top: 0; z-index: 0; outline: 0\")\n",
       "\n",
       "    this.canvas = canvas[0];\n",
       "    this.context = canvas[0].getContext(\"2d\");\n",
       "\n",
       "    var backingStore = this.context.backingStorePixelRatio ||\n",
       "\tthis.context.webkitBackingStorePixelRatio ||\n",
       "\tthis.context.mozBackingStorePixelRatio ||\n",
       "\tthis.context.msBackingStorePixelRatio ||\n",
       "\tthis.context.oBackingStorePixelRatio ||\n",
       "\tthis.context.backingStorePixelRatio || 1;\n",
       "\n",
       "    mpl.ratio = (window.devicePixelRatio || 1) / backingStore;\n",
       "\n",
       "    var rubberband = $('<canvas/>');\n",
       "    rubberband.attr('style', \"position: absolute; left: 0; top: 0; z-index: 1;\")\n",
       "\n",
       "    var pass_mouse_events = true;\n",
       "\n",
       "    canvas_div.resizable({\n",
       "        start: function(event, ui) {\n",
       "            pass_mouse_events = false;\n",
       "        },\n",
       "        resize: function(event, ui) {\n",
       "            fig.request_resize(ui.size.width, ui.size.height);\n",
       "        },\n",
       "        stop: function(event, ui) {\n",
       "            pass_mouse_events = true;\n",
       "            fig.request_resize(ui.size.width, ui.size.height);\n",
       "        },\n",
       "    });\n",
       "\n",
       "    function mouse_event_fn(event) {\n",
       "        if (pass_mouse_events)\n",
       "            return fig.mouse_event(event, event['data']);\n",
       "    }\n",
       "\n",
       "    rubberband.mousedown('button_press', mouse_event_fn);\n",
       "    rubberband.mouseup('button_release', mouse_event_fn);\n",
       "    // Throttle sequential mouse events to 1 every 20ms.\n",
       "    rubberband.mousemove('motion_notify', mouse_event_fn);\n",
       "\n",
       "    rubberband.mouseenter('figure_enter', mouse_event_fn);\n",
       "    rubberband.mouseleave('figure_leave', mouse_event_fn);\n",
       "\n",
       "    canvas_div.on(\"wheel\", function (event) {\n",
       "        event = event.originalEvent;\n",
       "        event['data'] = 'scroll'\n",
       "        if (event.deltaY < 0) {\n",
       "            event.step = 1;\n",
       "        } else {\n",
       "            event.step = -1;\n",
       "        }\n",
       "        mouse_event_fn(event);\n",
       "    });\n",
       "\n",
       "    canvas_div.append(canvas);\n",
       "    canvas_div.append(rubberband);\n",
       "\n",
       "    this.rubberband = rubberband;\n",
       "    this.rubberband_canvas = rubberband[0];\n",
       "    this.rubberband_context = rubberband[0].getContext(\"2d\");\n",
       "    this.rubberband_context.strokeStyle = \"#000000\";\n",
       "\n",
       "    this._resize_canvas = function(width, height) {\n",
       "        // Keep the size of the canvas, canvas container, and rubber band\n",
       "        // canvas in synch.\n",
       "        canvas_div.css('width', width)\n",
       "        canvas_div.css('height', height)\n",
       "\n",
       "        canvas.attr('width', width * mpl.ratio);\n",
       "        canvas.attr('height', height * mpl.ratio);\n",
       "        canvas.attr('style', 'width: ' + width + 'px; height: ' + height + 'px;');\n",
       "\n",
       "        rubberband.attr('width', width);\n",
       "        rubberband.attr('height', height);\n",
       "    }\n",
       "\n",
       "    // Set the figure to an initial 600x600px, this will subsequently be updated\n",
       "    // upon first draw.\n",
       "    this._resize_canvas(600, 600);\n",
       "\n",
       "    // Disable right mouse context menu.\n",
       "    $(this.rubberband_canvas).bind(\"contextmenu\",function(e){\n",
       "        return false;\n",
       "    });\n",
       "\n",
       "    function set_focus () {\n",
       "        canvas.focus();\n",
       "        canvas_div.focus();\n",
       "    }\n",
       "\n",
       "    window.setTimeout(set_focus, 100);\n",
       "}\n",
       "\n",
       "mpl.figure.prototype._init_toolbar = function() {\n",
       "    var fig = this;\n",
       "\n",
       "    var nav_element = $('<div/>')\n",
       "    nav_element.attr('style', 'width: 100%');\n",
       "    this.root.append(nav_element);\n",
       "\n",
       "    // Define a callback function for later on.\n",
       "    function toolbar_event(event) {\n",
       "        return fig.toolbar_button_onclick(event['data']);\n",
       "    }\n",
       "    function toolbar_mouse_event(event) {\n",
       "        return fig.toolbar_button_onmouseover(event['data']);\n",
       "    }\n",
       "\n",
       "    for(var toolbar_ind in mpl.toolbar_items) {\n",
       "        var name = mpl.toolbar_items[toolbar_ind][0];\n",
       "        var tooltip = mpl.toolbar_items[toolbar_ind][1];\n",
       "        var image = mpl.toolbar_items[toolbar_ind][2];\n",
       "        var method_name = mpl.toolbar_items[toolbar_ind][3];\n",
       "\n",
       "        if (!name) {\n",
       "            // put a spacer in here.\n",
       "            continue;\n",
       "        }\n",
       "        var button = $('<button/>');\n",
       "        button.addClass('ui-button ui-widget ui-state-default ui-corner-all ' +\n",
       "                        'ui-button-icon-only');\n",
       "        button.attr('role', 'button');\n",
       "        button.attr('aria-disabled', 'false');\n",
       "        button.click(method_name, toolbar_event);\n",
       "        button.mouseover(tooltip, toolbar_mouse_event);\n",
       "\n",
       "        var icon_img = $('<span/>');\n",
       "        icon_img.addClass('ui-button-icon-primary ui-icon');\n",
       "        icon_img.addClass(image);\n",
       "        icon_img.addClass('ui-corner-all');\n",
       "\n",
       "        var tooltip_span = $('<span/>');\n",
       "        tooltip_span.addClass('ui-button-text');\n",
       "        tooltip_span.html(tooltip);\n",
       "\n",
       "        button.append(icon_img);\n",
       "        button.append(tooltip_span);\n",
       "\n",
       "        nav_element.append(button);\n",
       "    }\n",
       "\n",
       "    var fmt_picker_span = $('<span/>');\n",
       "\n",
       "    var fmt_picker = $('<select/>');\n",
       "    fmt_picker.addClass('mpl-toolbar-option ui-widget ui-widget-content');\n",
       "    fmt_picker_span.append(fmt_picker);\n",
       "    nav_element.append(fmt_picker_span);\n",
       "    this.format_dropdown = fmt_picker[0];\n",
       "\n",
       "    for (var ind in mpl.extensions) {\n",
       "        var fmt = mpl.extensions[ind];\n",
       "        var option = $(\n",
       "            '<option/>', {selected: fmt === mpl.default_extension}).html(fmt);\n",
       "        fmt_picker.append(option)\n",
       "    }\n",
       "\n",
       "    // Add hover states to the ui-buttons\n",
       "    $( \".ui-button\" ).hover(\n",
       "        function() { $(this).addClass(\"ui-state-hover\");},\n",
       "        function() { $(this).removeClass(\"ui-state-hover\");}\n",
       "    );\n",
       "\n",
       "    var status_bar = $('<span class=\"mpl-message\"/>');\n",
       "    nav_element.append(status_bar);\n",
       "    this.message = status_bar[0];\n",
       "}\n",
       "\n",
       "mpl.figure.prototype.request_resize = function(x_pixels, y_pixels) {\n",
       "    // Request matplotlib to resize the figure. Matplotlib will then trigger a resize in the client,\n",
       "    // which will in turn request a refresh of the image.\n",
       "    this.send_message('resize', {'width': x_pixels, 'height': y_pixels});\n",
       "}\n",
       "\n",
       "mpl.figure.prototype.send_message = function(type, properties) {\n",
       "    properties['type'] = type;\n",
       "    properties['figure_id'] = this.id;\n",
       "    this.ws.send(JSON.stringify(properties));\n",
       "}\n",
       "\n",
       "mpl.figure.prototype.send_draw_message = function() {\n",
       "    if (!this.waiting) {\n",
       "        this.waiting = true;\n",
       "        this.ws.send(JSON.stringify({type: \"draw\", figure_id: this.id}));\n",
       "    }\n",
       "}\n",
       "\n",
       "\n",
       "mpl.figure.prototype.handle_save = function(fig, msg) {\n",
       "    var format_dropdown = fig.format_dropdown;\n",
       "    var format = format_dropdown.options[format_dropdown.selectedIndex].value;\n",
       "    fig.ondownload(fig, format);\n",
       "}\n",
       "\n",
       "\n",
       "mpl.figure.prototype.handle_resize = function(fig, msg) {\n",
       "    var size = msg['size'];\n",
       "    if (size[0] != fig.canvas.width || size[1] != fig.canvas.height) {\n",
       "        fig._resize_canvas(size[0], size[1]);\n",
       "        fig.send_message(\"refresh\", {});\n",
       "    };\n",
       "}\n",
       "\n",
       "mpl.figure.prototype.handle_rubberband = function(fig, msg) {\n",
       "    var x0 = msg['x0'] / mpl.ratio;\n",
       "    var y0 = (fig.canvas.height - msg['y0']) / mpl.ratio;\n",
       "    var x1 = msg['x1'] / mpl.ratio;\n",
       "    var y1 = (fig.canvas.height - msg['y1']) / mpl.ratio;\n",
       "    x0 = Math.floor(x0) + 0.5;\n",
       "    y0 = Math.floor(y0) + 0.5;\n",
       "    x1 = Math.floor(x1) + 0.5;\n",
       "    y1 = Math.floor(y1) + 0.5;\n",
       "    var min_x = Math.min(x0, x1);\n",
       "    var min_y = Math.min(y0, y1);\n",
       "    var width = Math.abs(x1 - x0);\n",
       "    var height = Math.abs(y1 - y0);\n",
       "\n",
       "    fig.rubberband_context.clearRect(\n",
       "        0, 0, fig.canvas.width, fig.canvas.height);\n",
       "\n",
       "    fig.rubberband_context.strokeRect(min_x, min_y, width, height);\n",
       "}\n",
       "\n",
       "mpl.figure.prototype.handle_figure_label = function(fig, msg) {\n",
       "    // Updates the figure title.\n",
       "    fig.header.textContent = msg['label'];\n",
       "}\n",
       "\n",
       "mpl.figure.prototype.handle_cursor = function(fig, msg) {\n",
       "    var cursor = msg['cursor'];\n",
       "    switch(cursor)\n",
       "    {\n",
       "    case 0:\n",
       "        cursor = 'pointer';\n",
       "        break;\n",
       "    case 1:\n",
       "        cursor = 'default';\n",
       "        break;\n",
       "    case 2:\n",
       "        cursor = 'crosshair';\n",
       "        break;\n",
       "    case 3:\n",
       "        cursor = 'move';\n",
       "        break;\n",
       "    }\n",
       "    fig.rubberband_canvas.style.cursor = cursor;\n",
       "}\n",
       "\n",
       "mpl.figure.prototype.handle_message = function(fig, msg) {\n",
       "    fig.message.textContent = msg['message'];\n",
       "}\n",
       "\n",
       "mpl.figure.prototype.handle_draw = function(fig, msg) {\n",
       "    // Request the server to send over a new figure.\n",
       "    fig.send_draw_message();\n",
       "}\n",
       "\n",
       "mpl.figure.prototype.handle_image_mode = function(fig, msg) {\n",
       "    fig.image_mode = msg['mode'];\n",
       "}\n",
       "\n",
       "mpl.figure.prototype.updated_canvas_event = function() {\n",
       "    // Called whenever the canvas gets updated.\n",
       "    this.send_message(\"ack\", {});\n",
       "}\n",
       "\n",
       "// A function to construct a web socket function for onmessage handling.\n",
       "// Called in the figure constructor.\n",
       "mpl.figure.prototype._make_on_message_function = function(fig) {\n",
       "    return function socket_on_message(evt) {\n",
       "        if (evt.data instanceof Blob) {\n",
       "            /* FIXME: We get \"Resource interpreted as Image but\n",
       "             * transferred with MIME type text/plain:\" errors on\n",
       "             * Chrome.  But how to set the MIME type?  It doesn't seem\n",
       "             * to be part of the websocket stream */\n",
       "            evt.data.type = \"image/png\";\n",
       "\n",
       "            /* Free the memory for the previous frames */\n",
       "            if (fig.imageObj.src) {\n",
       "                (window.URL || window.webkitURL).revokeObjectURL(\n",
       "                    fig.imageObj.src);\n",
       "            }\n",
       "\n",
       "            fig.imageObj.src = (window.URL || window.webkitURL).createObjectURL(\n",
       "                evt.data);\n",
       "            fig.updated_canvas_event();\n",
       "            fig.waiting = false;\n",
       "            return;\n",
       "        }\n",
       "        else if (typeof evt.data === 'string' && evt.data.slice(0, 21) == \"data:image/png;base64\") {\n",
       "            fig.imageObj.src = evt.data;\n",
       "            fig.updated_canvas_event();\n",
       "            fig.waiting = false;\n",
       "            return;\n",
       "        }\n",
       "\n",
       "        var msg = JSON.parse(evt.data);\n",
       "        var msg_type = msg['type'];\n",
       "\n",
       "        // Call the  \"handle_{type}\" callback, which takes\n",
       "        // the figure and JSON message as its only arguments.\n",
       "        try {\n",
       "            var callback = fig[\"handle_\" + msg_type];\n",
       "        } catch (e) {\n",
       "            console.log(\"No handler for the '\" + msg_type + \"' message type: \", msg);\n",
       "            return;\n",
       "        }\n",
       "\n",
       "        if (callback) {\n",
       "            try {\n",
       "                // console.log(\"Handling '\" + msg_type + \"' message: \", msg);\n",
       "                callback(fig, msg);\n",
       "            } catch (e) {\n",
       "                console.log(\"Exception inside the 'handler_\" + msg_type + \"' callback:\", e, e.stack, msg);\n",
       "            }\n",
       "        }\n",
       "    };\n",
       "}\n",
       "\n",
       "// from http://stackoverflow.com/questions/1114465/getting-mouse-location-in-canvas\n",
       "mpl.findpos = function(e) {\n",
       "    //this section is from http://www.quirksmode.org/js/events_properties.html\n",
       "    var targ;\n",
       "    if (!e)\n",
       "        e = window.event;\n",
       "    if (e.target)\n",
       "        targ = e.target;\n",
       "    else if (e.srcElement)\n",
       "        targ = e.srcElement;\n",
       "    if (targ.nodeType == 3) // defeat Safari bug\n",
       "        targ = targ.parentNode;\n",
       "\n",
       "    // jQuery normalizes the pageX and pageY\n",
       "    // pageX,Y are the mouse positions relative to the document\n",
       "    // offset() returns the position of the element relative to the document\n",
       "    var x = e.pageX - $(targ).offset().left;\n",
       "    var y = e.pageY - $(targ).offset().top;\n",
       "\n",
       "    return {\"x\": x, \"y\": y};\n",
       "};\n",
       "\n",
       "/*\n",
       " * return a copy of an object with only non-object keys\n",
       " * we need this to avoid circular references\n",
       " * http://stackoverflow.com/a/24161582/3208463\n",
       " */\n",
       "function simpleKeys (original) {\n",
       "  return Object.keys(original).reduce(function (obj, key) {\n",
       "    if (typeof original[key] !== 'object')\n",
       "        obj[key] = original[key]\n",
       "    return obj;\n",
       "  }, {});\n",
       "}\n",
       "\n",
       "mpl.figure.prototype.mouse_event = function(event, name) {\n",
       "    var canvas_pos = mpl.findpos(event)\n",
       "\n",
       "    if (name === 'button_press')\n",
       "    {\n",
       "        this.canvas.focus();\n",
       "        this.canvas_div.focus();\n",
       "    }\n",
       "\n",
       "    var x = canvas_pos.x * mpl.ratio;\n",
       "    var y = canvas_pos.y * mpl.ratio;\n",
       "\n",
       "    this.send_message(name, {x: x, y: y, button: event.button,\n",
       "                             step: event.step,\n",
       "                             guiEvent: simpleKeys(event)});\n",
       "\n",
       "    /* This prevents the web browser from automatically changing to\n",
       "     * the text insertion cursor when the button is pressed.  We want\n",
       "     * to control all of the cursor setting manually through the\n",
       "     * 'cursor' event from matplotlib */\n",
       "    event.preventDefault();\n",
       "    return false;\n",
       "}\n",
       "\n",
       "mpl.figure.prototype._key_event_extra = function(event, name) {\n",
       "    // Handle any extra behaviour associated with a key event\n",
       "}\n",
       "\n",
       "mpl.figure.prototype.key_event = function(event, name) {\n",
       "\n",
       "    // Prevent repeat events\n",
       "    if (name == 'key_press')\n",
       "    {\n",
       "        if (event.which === this._key)\n",
       "            return;\n",
       "        else\n",
       "            this._key = event.which;\n",
       "    }\n",
       "    if (name == 'key_release')\n",
       "        this._key = null;\n",
       "\n",
       "    var value = '';\n",
       "    if (event.ctrlKey && event.which != 17)\n",
       "        value += \"ctrl+\";\n",
       "    if (event.altKey && event.which != 18)\n",
       "        value += \"alt+\";\n",
       "    if (event.shiftKey && event.which != 16)\n",
       "        value += \"shift+\";\n",
       "\n",
       "    value += 'k';\n",
       "    value += event.which.toString();\n",
       "\n",
       "    this._key_event_extra(event, name);\n",
       "\n",
       "    this.send_message(name, {key: value,\n",
       "                             guiEvent: simpleKeys(event)});\n",
       "    return false;\n",
       "}\n",
       "\n",
       "mpl.figure.prototype.toolbar_button_onclick = function(name) {\n",
       "    if (name == 'download') {\n",
       "        this.handle_save(this, null);\n",
       "    } else {\n",
       "        this.send_message(\"toolbar_button\", {name: name});\n",
       "    }\n",
       "};\n",
       "\n",
       "mpl.figure.prototype.toolbar_button_onmouseover = function(tooltip) {\n",
       "    this.message.textContent = tooltip;\n",
       "};\n",
       "mpl.toolbar_items = [[\"Home\", \"Reset original view\", \"fa fa-home icon-home\", \"home\"], [\"Back\", \"Back to  previous view\", \"fa fa-arrow-left icon-arrow-left\", \"back\"], [\"Forward\", \"Forward to next view\", \"fa fa-arrow-right icon-arrow-right\", \"forward\"], [\"\", \"\", \"\", \"\"], [\"Pan\", \"Pan axes with left mouse, zoom with right\", \"fa fa-arrows icon-move\", \"pan\"], [\"Zoom\", \"Zoom to rectangle\", \"fa fa-square-o icon-check-empty\", \"zoom\"], [\"\", \"\", \"\", \"\"], [\"Download\", \"Download plot\", \"fa fa-floppy-o icon-save\", \"download\"]];\n",
       "\n",
       "mpl.extensions = [\"eps\", \"jpeg\", \"pdf\", \"png\", \"ps\", \"raw\", \"svg\", \"tif\"];\n",
       "\n",
       "mpl.default_extension = \"png\";var comm_websocket_adapter = function(comm) {\n",
       "    // Create a \"websocket\"-like object which calls the given IPython comm\n",
       "    // object with the appropriate methods. Currently this is a non binary\n",
       "    // socket, so there is still some room for performance tuning.\n",
       "    var ws = {};\n",
       "\n",
       "    ws.close = function() {\n",
       "        comm.close()\n",
       "    };\n",
       "    ws.send = function(m) {\n",
       "        //console.log('sending', m);\n",
       "        comm.send(m);\n",
       "    };\n",
       "    // Register the callback with on_msg.\n",
       "    comm.on_msg(function(msg) {\n",
       "        //console.log('receiving', msg['content']['data'], msg);\n",
       "        // Pass the mpl event to the overriden (by mpl) onmessage function.\n",
       "        ws.onmessage(msg['content']['data'])\n",
       "    });\n",
       "    return ws;\n",
       "}\n",
       "\n",
       "mpl.mpl_figure_comm = function(comm, msg) {\n",
       "    // This is the function which gets called when the mpl process\n",
       "    // starts-up an IPython Comm through the \"matplotlib\" channel.\n",
       "\n",
       "    var id = msg.content.data.id;\n",
       "    // Get hold of the div created by the display call when the Comm\n",
       "    // socket was opened in Python.\n",
       "    var element = $(\"#\" + id);\n",
       "    var ws_proxy = comm_websocket_adapter(comm)\n",
       "\n",
       "    function ondownload(figure, format) {\n",
       "        window.open(figure.imageObj.src);\n",
       "    }\n",
       "\n",
       "    var fig = new mpl.figure(id, ws_proxy,\n",
       "                           ondownload,\n",
       "                           element.get(0));\n",
       "\n",
       "    // Call onopen now - mpl needs it, as it is assuming we've passed it a real\n",
       "    // web socket which is closed, not our websocket->open comm proxy.\n",
       "    ws_proxy.onopen();\n",
       "\n",
       "    fig.parent_element = element.get(0);\n",
       "    fig.cell_info = mpl.find_output_cell(\"<div id='\" + id + \"'></div>\");\n",
       "    if (!fig.cell_info) {\n",
       "        console.error(\"Failed to find cell for figure\", id, fig);\n",
       "        return;\n",
       "    }\n",
       "\n",
       "    var output_index = fig.cell_info[2]\n",
       "    var cell = fig.cell_info[0];\n",
       "\n",
       "};\n",
       "\n",
       "mpl.figure.prototype.handle_close = function(fig, msg) {\n",
       "    var width = fig.canvas.width/mpl.ratio\n",
       "    fig.root.unbind('remove')\n",
       "\n",
       "    // Update the output cell to use the data from the current canvas.\n",
       "    fig.push_to_output();\n",
       "    var dataURL = fig.canvas.toDataURL();\n",
       "    // Re-enable the keyboard manager in IPython - without this line, in FF,\n",
       "    // the notebook keyboard shortcuts fail.\n",
       "    IPython.keyboard_manager.enable()\n",
       "    $(fig.parent_element).html('<img src=\"' + dataURL + '\" width=\"' + width + '\">');\n",
       "    fig.close_ws(fig, msg);\n",
       "}\n",
       "\n",
       "mpl.figure.prototype.close_ws = function(fig, msg){\n",
       "    fig.send_message('closing', msg);\n",
       "    // fig.ws.close()\n",
       "}\n",
       "\n",
       "mpl.figure.prototype.push_to_output = function(remove_interactive) {\n",
       "    // Turn the data on the canvas into data in the output cell.\n",
       "    var width = this.canvas.width/mpl.ratio\n",
       "    var dataURL = this.canvas.toDataURL();\n",
       "    this.cell_info[1]['text/html'] = '<img src=\"' + dataURL + '\" width=\"' + width + '\">';\n",
       "}\n",
       "\n",
       "mpl.figure.prototype.updated_canvas_event = function() {\n",
       "    // Tell IPython that the notebook contents must change.\n",
       "    IPython.notebook.set_dirty(true);\n",
       "    this.send_message(\"ack\", {});\n",
       "    var fig = this;\n",
       "    // Wait a second, then push the new image to the DOM so\n",
       "    // that it is saved nicely (might be nice to debounce this).\n",
       "    setTimeout(function () { fig.push_to_output() }, 1000);\n",
       "}\n",
       "\n",
       "mpl.figure.prototype._init_toolbar = function() {\n",
       "    var fig = this;\n",
       "\n",
       "    var nav_element = $('<div/>')\n",
       "    nav_element.attr('style', 'width: 100%');\n",
       "    this.root.append(nav_element);\n",
       "\n",
       "    // Define a callback function for later on.\n",
       "    function toolbar_event(event) {\n",
       "        return fig.toolbar_button_onclick(event['data']);\n",
       "    }\n",
       "    function toolbar_mouse_event(event) {\n",
       "        return fig.toolbar_button_onmouseover(event['data']);\n",
       "    }\n",
       "\n",
       "    for(var toolbar_ind in mpl.toolbar_items){\n",
       "        var name = mpl.toolbar_items[toolbar_ind][0];\n",
       "        var tooltip = mpl.toolbar_items[toolbar_ind][1];\n",
       "        var image = mpl.toolbar_items[toolbar_ind][2];\n",
       "        var method_name = mpl.toolbar_items[toolbar_ind][3];\n",
       "\n",
       "        if (!name) { continue; };\n",
       "\n",
       "        var button = $('<button class=\"btn btn-default\" href=\"#\" title=\"' + name + '\"><i class=\"fa ' + image + ' fa-lg\"></i></button>');\n",
       "        button.click(method_name, toolbar_event);\n",
       "        button.mouseover(tooltip, toolbar_mouse_event);\n",
       "        nav_element.append(button);\n",
       "    }\n",
       "\n",
       "    // Add the status bar.\n",
       "    var status_bar = $('<span class=\"mpl-message\" style=\"text-align:right; float: right;\"/>');\n",
       "    nav_element.append(status_bar);\n",
       "    this.message = status_bar[0];\n",
       "\n",
       "    // Add the close button to the window.\n",
       "    var buttongrp = $('<div class=\"btn-group inline pull-right\"></div>');\n",
       "    var button = $('<button class=\"btn btn-mini btn-primary\" href=\"#\" title=\"Stop Interaction\"><i class=\"fa fa-power-off icon-remove icon-large\"></i></button>');\n",
       "    button.click(function (evt) { fig.handle_close(fig, {}); } );\n",
       "    button.mouseover('Stop Interaction', toolbar_mouse_event);\n",
       "    buttongrp.append(button);\n",
       "    var titlebar = this.root.find($('.ui-dialog-titlebar'));\n",
       "    titlebar.prepend(buttongrp);\n",
       "}\n",
       "\n",
       "mpl.figure.prototype._root_extra_style = function(el){\n",
       "    var fig = this\n",
       "    el.on(\"remove\", function(){\n",
       "\tfig.close_ws(fig, {});\n",
       "    });\n",
       "}\n",
       "\n",
       "mpl.figure.prototype._canvas_extra_style = function(el){\n",
       "    // this is important to make the div 'focusable\n",
       "    el.attr('tabindex', 0)\n",
       "    // reach out to IPython and tell the keyboard manager to turn it's self\n",
       "    // off when our div gets focus\n",
       "\n",
       "    // location in version 3\n",
       "    if (IPython.notebook.keyboard_manager) {\n",
       "        IPython.notebook.keyboard_manager.register_events(el);\n",
       "    }\n",
       "    else {\n",
       "        // location in version 2\n",
       "        IPython.keyboard_manager.register_events(el);\n",
       "    }\n",
       "\n",
       "}\n",
       "\n",
       "mpl.figure.prototype._key_event_extra = function(event, name) {\n",
       "    var manager = IPython.notebook.keyboard_manager;\n",
       "    if (!manager)\n",
       "        manager = IPython.keyboard_manager;\n",
       "\n",
       "    // Check for shift+enter\n",
       "    if (event.shiftKey && event.which == 13) {\n",
       "        this.canvas_div.blur();\n",
       "        // select the cell after this one\n",
       "        var index = IPython.notebook.find_cell_index(this.cell_info[0]);\n",
       "        IPython.notebook.select(index + 1);\n",
       "    }\n",
       "}\n",
       "\n",
       "mpl.figure.prototype.handle_save = function(fig, msg) {\n",
       "    fig.ondownload(fig, null);\n",
       "}\n",
       "\n",
       "\n",
       "mpl.find_output_cell = function(html_output) {\n",
       "    // Return the cell and output element which can be found *uniquely* in the notebook.\n",
       "    // Note - this is a bit hacky, but it is done because the \"notebook_saving.Notebook\"\n",
       "    // IPython event is triggered only after the cells have been serialised, which for\n",
       "    // our purposes (turning an active figure into a static one), is too late.\n",
       "    var cells = IPython.notebook.get_cells();\n",
       "    var ncells = cells.length;\n",
       "    for (var i=0; i<ncells; i++) {\n",
       "        var cell = cells[i];\n",
       "        if (cell.cell_type === 'code'){\n",
       "            for (var j=0; j<cell.output_area.outputs.length; j++) {\n",
       "                var data = cell.output_area.outputs[j];\n",
       "                if (data.data) {\n",
       "                    // IPython >= 3 moved mimebundle to data attribute of output\n",
       "                    data = data.data;\n",
       "                }\n",
       "                if (data['text/html'] == html_output) {\n",
       "                    return [cell, data, j];\n",
       "                }\n",
       "            }\n",
       "        }\n",
       "    }\n",
       "}\n",
       "\n",
       "// Register the function which deals with the matplotlib target/channel.\n",
       "// The kernel may be null if the page has been refreshed.\n",
       "if (IPython.notebook.kernel != null) {\n",
       "    IPython.notebook.kernel.comm_manager.register_target('matplotlib', mpl.mpl_figure_comm);\n",
       "}\n"
      ],
      "text/plain": [
       "<IPython.core.display.Javascript object>"
      ]
     },
     "metadata": {},
     "output_type": "display_data"
    },
    {
     "data": {
      "text/html": [
       "<img src=\"data:image/png;base64,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\" width=\"575.9999828338628\">"
      ],
      "text/plain": [
       "<IPython.core.display.HTML object>"
      ]
     },
     "metadata": {},
     "output_type": "display_data"
    }
   ],
   "source": [
    "import glob\n",
    "import matplotlib.animation as animation\n",
    "import matplotlib.image as mpimg\n",
    "%matplotlib notebook\n",
    "\n",
    "fig = plt.figure(figsize=(8, 5))\n",
    "ims = []\n",
    "for path in glob.glob('data/fake_images-*.png'):\n",
    "    imread = mpimg.imread(path)\n",
    "    im = plt.imshow(imread, animated=True)\n",
    "    ims.append([im])\n",
    "#     print path\n",
    "ani = animation.ArtistAnimation(fig, ims, interval=50, blit=True, repeat_delay=1000)\n",
    "plt.show()\n",
    "ani.save('dynamic_images.mp4')"
   ]
  },
  {
   "cell_type": "markdown",
   "metadata": {},
   "source": [
    "## Evaluation"
   ]
  },
  {
   "cell_type": "code",
   "execution_count": 221,
   "metadata": {
    "collapsed": true
   },
   "outputs": [],
   "source": [
    "%matplotlib inline"
   ]
  },
  {
   "cell_type": "markdown",
   "metadata": {},
   "source": [
    "Load back the weights from your favorite epoch."
   ]
  },
  {
   "cell_type": "code",
   "execution_count": 222,
   "metadata": {
    "collapsed": true
   },
   "outputs": [],
   "source": [
    "G.load_state_dict(torch.load('./weights/generator-031.pkl'))\n",
    "D.load_state_dict(torch.load('./weights/discriminator-031.pkl'))"
   ]
  },
  {
   "cell_type": "code",
   "execution_count": 223,
   "metadata": {
    "collapsed": false
   },
   "outputs": [],
   "source": [
    "z = to_var(torch.randn(60000, 64))\n",
    "fake_images = G(z).data.numpy().reshape(60000, 28, 28)"
   ]
  },
  {
   "cell_type": "code",
   "execution_count": 225,
   "metadata": {
    "collapsed": false
   },
   "outputs": [
    {
     "data": {
      "text/plain": [
       "<matplotlib.image.AxesImage at 0x145b54ad0>"
      ]
     },
     "execution_count": 225,
     "metadata": {},
     "output_type": "execute_result"
    },
    {
     "data": {
      "image/png": "[encoded data removed]",
      "text/plain": [
       "<matplotlib.figure.Figure at 0x12123f110>"
      ]
     },
     "metadata": {},
     "output_type": "display_data"
    }
   ],
   "source": [
    "plt.imshow(fake_images[0], cmap='Greys')"
   ]
  },
  {
   "cell_type": "code",
   "execution_count": 226,
   "metadata": {
    "collapsed": true
   },
   "outputs": [],
   "source": [
    "from sklearn.cluster import MiniBatchKMeans, DBSCAN"
   ]
  },
  {
   "cell_type": "code",
   "execution_count": 227,
   "metadata": {
    "collapsed": false
   },
   "outputs": [],
   "source": [
    "inertia = []\n",
    "normed_real_images = dataset.train_data.numpy().reshape(len(dataset), -1) / 255. * 2. - 1.\n",
    "for n_clusters in range(2, 15):\n",
    "    model = MiniBatchKMeans(n_clusters=n_clusters)\n",
    "    model.fit(normed_real_images)\n",
    "    inertia.append(model.inertia_)"
   ]
  },
  {
   "cell_type": "code",
   "execution_count": 228,
   "metadata": {
    "collapsed": true
   },
   "outputs": [],
   "source": [
    "from sklearn.cluster import MiniBatchKMeans\n",
    "inertia_gan = []\n",
    "for n_clusters in range(2, 15):\n",
    "    model = MiniBatchKMeans(n_clusters=n_clusters)\n",
    "    model.fit(fake_images.reshape(60000, -1))\n",
    "    inertia_gan.append(model.inertia_)"
   ]
  },
  {
   "cell_type": "code",
   "execution_count": 229,
   "metadata": {
    "collapsed": false
   },
   "outputs": [
    {
     "data": {
      "text/plain": [
       "<matplotlib.text.Text at 0x11e12f550>"
      ]
     },
     "execution_count": 229,
     "metadata": {},
     "output_type": "execute_result"
    },
    {
     "data": {
      "image/png": "[encoded data removed]",
      "text/plain": [
       "<matplotlib.figure.Figure at 0x11eeae510>"
      ]
     },
     "metadata": {},
     "output_type": "display_data"
    }
   ],
   "source": [
    "plt.plot(range(2, 15), inertia, label='Training Set')\n",
    "plt.plot(range(2, 15), inertia_gan, label='GAN Generated')\n",
    "plt.legend()\n",
    "plt.ylabel('Within-cluster sum of squares')\n",
    "plt.xlabel('Number of clusters')"
   ]
  },
  {
   "cell_type": "markdown",
   "metadata": {},
   "source": [
    "## Tricks"
   ]
  },
  {
   "cell_type": "code",
   "execution_count": 128,
   "metadata": {
    "collapsed": true
   },
   "outputs": [],
   "source": [
    "# auxiliary classifier gan, conditional gan, etc\n",
    "# instance noise: image + gaussian noise\n",
    "# label flipping: flip labels with some probability\n",
    "# label smoothing: 0 --> [0, 0.3], 1--> [0.7, 1]\n",
    "#http://www.inference.vc/instance-noise-a-trick-for-stabilising-gan-training/"
   ]
  },
  {
   "cell_type": "code",
   "execution_count": 137,
   "metadata": {
    "collapsed": true
   },
   "outputs": [],
   "source": [
    "def add_instance_noise(images, std=0.1):\n",
    "    '''\n",
    "    add normal noise to images\n",
    "    '''\n",
    "    noise = Variable(std * torch.randn(images.shape))\n",
    "    return images + noise"
   ]
  },
  {
   "cell_type": "code",
   "execution_count": 124,
   "metadata": {
    "collapsed": true
   },
   "outputs": [],
   "source": [
    "def label_flip(x, p=0.05):\n",
    "    '''\n",
    "    bit flip with some probability\n",
    "    Args:\n",
    "    ----\n",
    "        x = torch.FloatTensor\n",
    "        p = float, probability of flip\n",
    "    Returns:\n",
    "    --------\n",
    "        x_new = torch.FloatTensor\n",
    "    '''\n",
    "    x_new = x.clone()\n",
    "    selection = torch.rand(x_new.shape) < prob\n",
    "    x_new[selection] = (x_new[selection].type(torch.ByteTensor)^1).type(torch.FloatTensor)\n",
    "    return x_new"
   ]
  },
  {
   "cell_type": "code",
   "execution_count": 125,
   "metadata": {
    "collapsed": true
   },
   "outputs": [],
   "source": [
    "def label_smoothe(x, p=0.05, smoothing_param=0.3):\n",
    "    '''\n",
    "    label smoothing with some probability\n",
    "    Args:\n",
    "    ----\n",
    "        x = torch.FloatTensor\n",
    "        p = float, probability of an entry being selected for smoothing\n",
    "        smoothing_param = float, max amount of variation\n",
    "    Returns:\n",
    "    --------\n",
    "        x_new = torch.FloatTensor\n",
    "    '''\n",
    "    x_new = x.clone()\n",
    "    selection = torch.rand(x_new.shape) < prob\n",
    "    smoothing = torch.rand(selection.sum()) * smoothing_param\n",
    "    x_new[selection] = torch.abs(x_new[selection] - smoothing)\n",
    "    return x_new"
   ]
  },
  {
   "cell_type": "markdown",
   "metadata": {},
   "source": [
    "## Wasserstein GAN"
   ]
  },
  {
   "cell_type": "code",
   "execution_count": 230,
   "metadata": {
    "collapsed": true
   },
   "outputs": [],
   "source": [
    "# Critic\n",
    "# Note that we just have a linear output here\n",
    "critic = nn.Sequential(\n",
    "    nn.Linear(28 * 28, 512),\n",
    "    nn.LeakyReLU(0.2),\n",
    "    nn.Linear(512, 256),\n",
    "    nn.LeakyReLU(0.2),\n",
    "    nn.Linear(256, 1)\n",
    ")\n",
    "\n",
    "# Generator \n",
    "generator = nn.Sequential(\n",
    "    nn.Linear(64, 128),\n",
    "    nn.LeakyReLU(0.2),\n",
    "    nn.Linear(128, 256),\n",
    "    nn.LeakyReLU(0.2),\n",
    "    nn.Linear(256, 512),\n",
    "    nn.LeakyReLU(0.2),\n",
    "    nn.Linear(512, 28 * 28),\n",
    "    nn.Tanh()\n",
    ")\n",
    "\n",
    "# if you're running on GPU, move models there\n",
    "if torch.cuda.is_available():\n",
    "    critic.cuda()\n",
    "    generator.cuda()"
   ]
  },
  {
   "cell_type": "code",
   "execution_count": 231,
   "metadata": {
    "collapsed": true
   },
   "outputs": [],
   "source": [
    "# These are the recommended defaults (sauf N_EPOCHS) from the WGAN paper.\n",
    "LR = 0.00005\n",
    "N_EPOCHS = 300\n",
    "N_CRITIC_STEPS = 5\n",
    "CLAMP = 0.01"
   ]
  },
  {
   "cell_type": "code",
   "execution_count": 232,
   "metadata": {
    "collapsed": true
   },
   "outputs": [],
   "source": [
    "critic_optimizer = torch.optim.RMSprop(critic.parameters(), lr=LR)\n",
    "generator_optimizer = torch.optim.RMSprop(generator.parameters(), lr=LR)"
   ]
  },
  {
   "cell_type": "markdown",
   "metadata": {},
   "source": [
    "For the training loop, we want to alternate between `N_CRITIC_STEPS` critic updates and a single generator update. We'll keep a counter that will help us know where we are."
   ]
  },
  {
   "cell_type": "code",
   "execution_count": null,
   "metadata": {
    "collapsed": false
   },
   "outputs": [
    {
     "name": "stdout",
     "output_type": "stream",
     "text": [
      "Epoch [0/300], Step[300/600], d_loss: -0.6322, g_loss: -3.9509, Mean D(x): 4.57, Mean D(G(z)): 3.94\n",
      "Epoch [0/300], Step[600/600], d_loss: -0.2779, g_loss: -3.9530, Mean D(x): 4.19, Mean D(G(z)): 3.92\n",
      "Epoch [1/300], Step[300/600], d_loss: -0.2292, g_loss: -1.7990, Mean D(x): 2.07, Mean D(G(z)): 1.84\n",
      "Epoch [1/300], Step[600/600], d_loss: -1.5612, g_loss: -0.1435, Mean D(x): 1.74, Mean D(G(z)): 0.18\n",
      "Epoch [2/300], Step[300/600], d_loss: -2.7454, g_loss: -1.2273, Mean D(x): 3.98, Mean D(G(z)): 1.23\n",
      "Epoch [2/300], Step[600/600], d_loss: -2.7234, g_loss: -0.5947, Mean D(x): 3.29, Mean D(G(z)): 0.57\n",
      "Epoch [3/300], Step[300/600], d_loss: -2.8666, g_loss: -0.5841, Mean D(x): 3.45, Mean D(G(z)): 0.59\n",
      "Epoch [3/300], Step[600/600], d_loss: -2.2584, g_loss: -1.1946, Mean D(x): 3.50, Mean D(G(z)): 1.24\n",
      "Epoch [4/300], Step[300/600], d_loss: -0.9818, g_loss: -1.7472, Mean D(x): 2.76, Mean D(G(z)): 1.77\n",
      "Epoch [4/300], Step[600/600], d_loss: -2.5473, g_loss: 0.7313, Mean D(x): 1.86, Mean D(G(z)): -0.69\n",
      "Epoch [5/300], Step[300/600], d_loss: -2.9569, g_loss: 1.4389, Mean D(x): 1.56, Mean D(G(z)): -1.40\n",
      "Epoch [5/300], Step[600/600], d_loss: -2.3371, g_loss: 0.5630, Mean D(x): 1.80, Mean D(G(z)): -0.54\n",
      "Epoch [6/300], Step[300/600], d_loss: -2.3980, g_loss: 0.2449, Mean D(x): 2.24, Mean D(G(z)): -0.16\n",
      "Epoch [6/300], Step[600/600], d_loss: -2.6640, g_loss: -0.5357, Mean D(x): 3.18, Mean D(G(z)): 0.51\n",
      "Epoch [7/300], Step[300/600], d_loss: -1.8911, g_loss: -0.4357, Mean D(x): 2.31, Mean D(G(z)): 0.42\n",
      "Epoch [7/300], Step[600/600], d_loss: -1.7397, g_loss: -1.1575, Mean D(x): 2.85, Mean D(G(z)): 1.11\n",
      "Epoch [8/300], Step[300/600], d_loss: -2.3551, g_loss: -0.1308, Mean D(x): 2.46, Mean D(G(z)): 0.11\n",
      "Epoch [8/300], Step[600/600], d_loss: -2.7761, g_loss: -0.3627, Mean D(x): 3.11, Mean D(G(z)): 0.34\n",
      "Epoch [9/300], Step[300/600], d_loss: -2.5689, g_loss: -0.3809, Mean D(x): 3.10, Mean D(G(z)): 0.53\n",
      "Epoch [9/300], Step[600/600], d_loss: -2.2704, g_loss: -0.8183, Mean D(x): 3.19, Mean D(G(z)): 0.92\n",
      "Epoch [10/300], Step[300/600], d_loss: -1.8425, g_loss: -1.1543, Mean D(x): 3.10, Mean D(G(z)): 1.26\n",
      "Epoch [10/300], Step[600/600], d_loss: -1.7162, g_loss: -1.4525, Mean D(x): 3.27, Mean D(G(z)): 1.56\n",
      "Epoch [11/300], Step[300/600], d_loss: -1.9910, g_loss: -0.5980, Mean D(x): 2.61, Mean D(G(z)): 0.62\n",
      "Epoch [11/300], Step[600/600], d_loss: -1.8798, g_loss: -0.9025, Mean D(x): 2.67, Mean D(G(z)): 0.79\n",
      "Epoch [12/300], Step[300/600], d_loss: -1.4436, g_loss: -0.9114, Mean D(x): 2.36, Mean D(G(z)): 0.92\n",
      "Epoch [12/300], Step[600/600], d_loss: -1.3943, g_loss: -0.8593, Mean D(x): 2.10, Mean D(G(z)): 0.71\n",
      "Epoch [13/300], Step[300/600], d_loss: -1.1245, g_loss: -0.6645, Mean D(x): 1.79, Mean D(G(z)): 0.67\n",
      "Epoch [13/300], Step[600/600], d_loss: -1.0235, g_loss: -0.8943, Mean D(x): 1.99, Mean D(G(z)): 0.97\n",
      "Epoch [14/300], Step[300/600], d_loss: -1.0489, g_loss: -0.8484, Mean D(x): 2.00, Mean D(G(z)): 0.95\n",
      "Epoch [14/300], Step[600/600], d_loss: -0.9531, g_loss: -0.7495, Mean D(x): 1.74, Mean D(G(z)): 0.78\n",
      "Epoch [15/300], Step[300/600], d_loss: -0.8563, g_loss: -0.8950, Mean D(x): 1.75, Mean D(G(z)): 0.90\n",
      "Epoch [15/300], Step[600/600], d_loss: -0.7549, g_loss: -1.2308, Mean D(x): 1.90, Mean D(G(z)): 1.14\n",
      "Epoch [16/300], Step[300/600], d_loss: -0.7548, g_loss: -0.8378, Mean D(x): 1.58, Mean D(G(z)): 0.83\n",
      "Epoch [16/300], Step[600/600], d_loss: -0.8563, g_loss: -1.0732, Mean D(x): 1.82, Mean D(G(z)): 0.96\n",
      "Epoch [17/300], Step[300/600], d_loss: -0.7342, g_loss: -1.2121, Mean D(x): 1.80, Mean D(G(z)): 1.07\n",
      "Epoch [17/300], Step[600/600], d_loss: -0.6432, g_loss: -0.2189, Mean D(x): 0.90, Mean D(G(z)): 0.26\n",
      "Epoch [18/300], Step[300/600], d_loss: -0.7513, g_loss: -0.6554, Mean D(x): 1.39, Mean D(G(z)): 0.64\n",
      "Epoch [18/300], Step[600/600], d_loss: -0.8863, g_loss: -0.3164, Mean D(x): 1.09, Mean D(G(z)): 0.20\n",
      "Epoch [19/300], Step[300/600], d_loss: -0.8561, g_loss: -0.2753, Mean D(x): 1.06, Mean D(G(z)): 0.20\n",
      "Epoch [19/300], Step[600/600], d_loss: -1.1217, g_loss: -0.0353, Mean D(x): 1.08, Mean D(G(z)): -0.04\n",
      "Epoch [20/300], Step[300/600], d_loss: -1.0417, g_loss: 0.3412, Mean D(x): 0.62, Mean D(G(z)): -0.42\n",
      "Epoch [20/300], Step[600/600], d_loss: -1.2908, g_loss: 0.5059, Mean D(x): 0.69, Mean D(G(z)): -0.60\n",
      "Epoch [21/300], Step[300/600], d_loss: -1.3985, g_loss: 0.7798, Mean D(x): 0.70, Mean D(G(z)): -0.70\n",
      "Epoch [21/300], Step[600/600], d_loss: -0.3572, g_loss: 0.0637, Mean D(x): 0.39, Mean D(G(z)): 0.03\n",
      "Epoch [22/300], Step[300/600], d_loss: -1.2880, g_loss: 0.5421, Mean D(x): 0.78, Mean D(G(z)): -0.50\n",
      "Epoch [22/300], Step[600/600], d_loss: -1.1799, g_loss: 0.5668, Mean D(x): 0.54, Mean D(G(z)): -0.64\n",
      "Epoch [23/300], Step[300/600], d_loss: -1.2550, g_loss: 0.3104, Mean D(x): 0.85, Mean D(G(z)): -0.41\n",
      "Epoch [23/300], Step[600/600], d_loss: -1.1318, g_loss: 0.5522, Mean D(x): 0.60, Mean D(G(z)): -0.53\n",
      "Epoch [24/300], Step[300/600], d_loss: -1.1470, g_loss: 0.7272, Mean D(x): 0.41, Mean D(G(z)): -0.74\n",
      "Epoch [24/300], Step[600/600], d_loss: -1.1480, g_loss: 0.7151, Mean D(x): 0.44, Mean D(G(z)): -0.71\n",
      "Epoch [25/300], Step[300/600], d_loss: -1.2236, g_loss: 0.6969, Mean D(x): 0.57, Mean D(G(z)): -0.65\n",
      "Epoch [25/300], Step[600/600], d_loss: -0.7106, g_loss: 0.5875, Mean D(x): 0.12, Mean D(G(z)): -0.59\n",
      "Epoch [26/300], Step[300/600], d_loss: -0.7804, g_loss: 0.3211, Mean D(x): 0.54, Mean D(G(z)): -0.24\n",
      "Epoch [26/300], Step[600/600], d_loss: -0.8670, g_loss: 0.3606, Mean D(x): 0.53, Mean D(G(z)): -0.33\n",
      "Epoch [27/300], Step[300/600], d_loss: -0.7878, g_loss: 0.4330, Mean D(x): 0.27, Mean D(G(z)): -0.52\n",
      "Epoch [27/300], Step[600/600], d_loss: -1.0189, g_loss: 0.4748, Mean D(x): 0.59, Mean D(G(z)): -0.42\n",
      "Epoch [28/300], Step[300/600], d_loss: -1.0954, g_loss: 0.3505, Mean D(x): 0.72, Mean D(G(z)): -0.38\n",
      "Epoch [28/300], Step[600/600], d_loss: -1.0522, g_loss: 0.6607, Mean D(x): 0.51, Mean D(G(z)): -0.54\n",
      "Epoch [29/300], Step[300/600], d_loss: -0.3251, g_loss: -0.5140, Mean D(x): 0.91, Mean D(G(z)): 0.59\n",
      "Epoch [29/300], Step[600/600], d_loss: -0.8707, g_loss: 0.0674, Mean D(x): 0.80, Mean D(G(z)): -0.07\n",
      "Epoch [30/300], Step[300/600], d_loss: -0.9841, g_loss: 0.0454, Mean D(x): 0.87, Mean D(G(z)): -0.11\n",
      "Epoch [30/300], Step[600/600], d_loss: -1.0002, g_loss: 0.0942, Mean D(x): 0.88, Mean D(G(z)): -0.12\n",
      "Epoch [31/300], Step[300/600], d_loss: -0.9866, g_loss: 0.3257, Mean D(x): 0.70, Mean D(G(z)): -0.29\n",
      "Epoch [31/300], Step[600/600], d_loss: -1.0889, g_loss: 0.3777, Mean D(x): 0.77, Mean D(G(z)): -0.32\n",
      "Epoch [32/300], Step[300/600], d_loss: -0.8485, g_loss: 1.3010, Mean D(x): -0.36, Mean D(G(z)): -1.21\n",
      "Epoch [32/300], Step[600/600], d_loss: -1.2542, g_loss: 1.0658, Mean D(x): 0.18, Mean D(G(z)): -1.08\n",
      "Epoch [33/300], Step[300/600], d_loss: -0.8826, g_loss: -0.0459, Mean D(x): 0.93, Mean D(G(z)): 0.05\n",
      "Epoch [33/300], Step[600/600], d_loss: -0.9633, g_loss: 0.5195, Mean D(x): 0.41, Mean D(G(z)): -0.56\n",
      "Epoch [34/300], Step[300/600], d_loss: -0.8910, g_loss: 0.5534, Mean D(x): 0.36, Mean D(G(z)): -0.53\n",
      "Epoch [34/300], Step[600/600], d_loss: -0.8773, g_loss: 0.4780, Mean D(x): 0.41, Mean D(G(z)): -0.47\n",
      "Epoch [35/300], Step[300/600], d_loss: -0.7472, g_loss: 0.1506, Mean D(x): 0.63, Mean D(G(z)): -0.11\n",
      "Epoch [35/300], Step[600/600], d_loss: -0.9380, g_loss: -0.2925, Mean D(x): 1.23, Mean D(G(z)): 0.29\n",
      "Epoch [36/300], Step[300/600], d_loss: -0.6857, g_loss: 0.0805, Mean D(x): 0.64, Mean D(G(z)): -0.04\n",
      "Epoch [36/300], Step[600/600], d_loss: -0.7769, g_loss: 0.4519, Mean D(x): 0.30, Mean D(G(z)): -0.47\n",
      "Epoch [37/300], Step[300/600], d_loss: -1.0611, g_loss: 0.5672, Mean D(x): 0.52, Mean D(G(z)): -0.54\n",
      "Epoch [37/300], Step[600/600], d_loss: -0.9086, g_loss: 0.3516, Mean D(x): 0.59, Mean D(G(z)): -0.32\n",
      "Epoch [38/300], Step[300/600], d_loss: -0.8970, g_loss: 0.2756, Mean D(x): 0.61, Mean D(G(z)): -0.29\n",
      "Epoch [38/300], Step[600/600], d_loss: -0.6169, g_loss: -0.2328, Mean D(x): 0.97, Mean D(G(z)): 0.36\n",
      "Epoch [39/300], Step[300/600], d_loss: -0.8096, g_loss: 0.3052, Mean D(x): 0.54, Mean D(G(z)): -0.27\n",
      "Epoch [39/300], Step[600/600], d_loss: -1.1205, g_loss: 1.4468, Mean D(x): -0.18, Mean D(G(z)): -1.30\n",
      "Epoch [40/300], Step[300/600], d_loss: -0.4239, g_loss: 0.7141, Mean D(x): -0.17, Mean D(G(z)): -0.60\n",
      "Epoch [40/300], Step[600/600], d_loss: -0.7866, g_loss: 0.3684, Mean D(x): 0.49, Mean D(G(z)): -0.29\n",
      "Epoch [41/300], Step[300/600], d_loss: -0.7447, g_loss: 0.4331, Mean D(x): 0.29, Mean D(G(z)): -0.46\n",
      "Epoch [41/300], Step[600/600], d_loss: -0.9886, g_loss: 0.7950, Mean D(x): 0.18, Mean D(G(z)): -0.81\n"
     ]
    }
   ],
   "source": [
    "# allow for manual keyboard interrupt\n",
    "try: \n",
    "    # loop through epochs\n",
    "    for epoch in range(N_EPOCHS):\n",
    "        \n",
    "        # Keep track of what critic step we're on\n",
    "        crit_steps = 0\n",
    "        \n",
    "        # loop through batches (no need for class labels right now)\n",
    "        for batch_number, (images, _) in enumerate(data_loader): \n",
    "            \n",
    "            # this specific batch size (last one may not be equal to BATCH_SIZE)\n",
    "            batch_size = images.shape[0] \n",
    "            \n",
    "            # Reshape training dataset images from (batch_size, 28, 28) to (batch_size, 28*28) for \n",
    "            # processing through fully-connected net \n",
    "            images = to_var(images.view(batch_size, -1))\n",
    "\n",
    "            # 1) TRAIN CRITIC\n",
    "            # If we haven't done enough steps, let's train the critic\n",
    "            if crit_steps < N_CRITIC_STEPS:\n",
    "                critic.zero_grad()\n",
    "                generator.zero_grad()\n",
    "        \n",
    "                # clamp parameters to a cube\n",
    "                for p in critic.parameters():\n",
    "                    p.data.clamp_(-CLAMP, CLAMP)\n",
    "\n",
    "                # Accum grads with real images (we want the critic to output a high value here)\n",
    "                err_real = torch.mean(critic(images))\n",
    "            \n",
    "                # Draw random 64-dimensional noise vectors as inputs to the generator network\n",
    "                z = to_var(torch.randn(batch_size, 64))\n",
    "                \n",
    "                # Transform the noise through the generator network to get synthetic images\n",
    "                fake_images = generator(z)\n",
    "                \n",
    "                # Accum grads with fake images (we want the critic to output a low value here)\n",
    "                err_fake = torch.mean(critic(fake_images)) \n",
    "                \n",
    "                # If we minimize this, we maximize err_real - err_fake\n",
    "                critic_loss = err_fake - err_real\n",
    "                critic_loss.backward()\n",
    "                critic_optimizer.step()\n",
    "                \n",
    "                # We increment our counter now that we've seen a critic update\n",
    "                crit_steps += 1\n",
    "            # 2) TRAIN GENERATOR\n",
    "            # Here we have done N_CRITIC_STEPS critic updates, so we do the generator now\n",
    "            else:\n",
    "                critic.zero_grad()\n",
    "                generator.zero_grad()\n",
    "\n",
    "                # Draw random 64-dimensional noise vectors as inputs to the generator network\n",
    "                z = to_var(torch.randn(batch_size, 64))\n",
    "                \n",
    "                # Transform the noise through the generator network to get synthetic images\n",
    "                fake_images = generator(z)\n",
    "                \n",
    "                # Accum grads with fake images (generator wants the critic to \n",
    "                # output a high value here, \"tricking\" it)\n",
    "                outputs = critic(fake_images)\n",
    "                \n",
    "                # We minimize this so we maximize the quantity we actually care about\n",
    "                generator_loss = -torch.mean(outputs)\n",
    "\n",
    "                # Backprop + Optimize the generator\n",
    "                generator_loss.backward()\n",
    "                generator_optimizer.step()\n",
    "                \n",
    "                # Reset the counter - the next batch will go to the critic!\n",
    "                crit_steps = 0\n",
    "\n",
    "                if (batch_number + 1) % 300 == 0:\n",
    "                    print('Epoch [%d/%d], Step[%d/%d], d_loss: %.4f, '\n",
    "                          'g_loss: %.4f, Mean D(x): %.2f, Mean D(G(z)): %.2f' \n",
    "                          %(epoch,\n",
    "                            N_EPOCHS,\n",
    "                            batch_number + 1,\n",
    "                            n_batches,\n",
    "                            critic_loss.data[0],\n",
    "                            generator_loss.data[0],\n",
    "                            err_real.data.mean(),\n",
    "                            err_fake.data.mean())\n",
    "                    )\n",
    "\n",
    "        # Save real images once\n",
    "        if (epoch + 1) == 1:\n",
    "            images = images.view(images.size(0), 1, 28, 28) # reshape\n",
    "            save_image(denorm(images.data), './data/wgan_real_images.png')\n",
    "\n",
    "        # Save sampled images\n",
    "        # Save sampled images\n",
    "        fake_images = fake_images.view(fake_images.size(0), 1, 28, 28) #reshape\n",
    "        save_image(denorm(fake_images.data), './data/wgan_fake_images-%0.3d.png' %(epoch + 1))\n",
    "\n",
    "        # Save the trained parameters \n",
    "        torch.save(generator.state_dict(), './weights/wgan_generator-%0.3d.pkl' %(epoch + 1))\n",
    "        torch.save(critic.state_dict(), './weights/wgan_discriminator-%0.3d.pkl' %(epoch + 1))\n",
    "        \n",
    "except KeyboardInterrupt:\n",
    "    print 'Training ended early.'"
   ]
  },
  {
   "cell_type": "code",
   "execution_count": null,
   "metadata": {
    "collapsed": true
   },
   "outputs": [],
   "source": [
    "# Load back saved weights (we have these pre-trained)\n",
    "generator.load_state_dict(torch.load('./weights/wgan_generator_final.pkl'))\n",
    "critic.load_state_dict(torch.load('./weights/wgan_discriminator_final.pkl'))"
   ]
  },
  {
   "cell_type": "code",
   "execution_count": null,
   "metadata": {
    "collapsed": true
   },
   "outputs": [],
   "source": [
    "NB_SAMPLES = 400\n",
    "z = to_var(torch.randn(NB_SAMPLES, 64))\n",
    "fake_images = generator(z)"
   ]
  },
  {
   "cell_type": "code",
   "execution_count": null,
   "metadata": {
    "collapsed": true
   },
   "outputs": [],
   "source": [
    "save_image(denorm(fake_images.view(fake_images.size(0), 1, 28, 28).data), # reshape\n",
    "           './data/wgan_fake_images_final.png', nrow=20)"
   ]
  },
  {
   "cell_type": "code",
   "execution_count": null,
   "metadata": {
    "collapsed": true
   },
   "outputs": [],
   "source": [
    "import IPython\n",
    "IPython.display.Image('./data/wgan_fake_images_final.png')"
   ]
  },
  {
   "cell_type": "code",
   "execution_count": 228,
   "metadata": {
    "collapsed": true,
    "deletable": true,
    "editable": true
   },
   "outputs": [],
   "source": [
    "from sklearn.cluster import MiniBatchKMeans\n",
    "inertia_wgan = []\n",
    "for n_clusters in range(2, 15):\n",
    "    model = MiniBatchKMeans(n_clusters=n_clusters)\n",
    "    model.fit(fake_images.reshape(60000, -1))\n",
    "    inertia_wgan.append(model.inertia_)"
   ]
  },
  {
   "cell_type": "code",
   "execution_count": 229,
   "metadata": {
    "collapsed": false,
    "deletable": true,
    "editable": true
   },
   "outputs": [
    {
     "data": {
      "text/plain": [
       "<matplotlib.text.Text at 0x11e12f550>"
      ]
     },
     "execution_count": 229,
     "metadata": {},
     "output_type": "execute_result"
    },
    {
     "data": {
      "image/png": "[encoded data removed]",
      "text/plain": [
       "<matplotlib.figure.Figure at 0x11eeae510>"
      ]
     },
     "metadata": {},
     "output_type": "display_data"
    }
   ],
   "source": [
    "plt.plot(range(2, 15), inertia, label='Training Set')\n",
    "plt.plot(range(2, 15), inertia_gan, label='GAN Generated')\n",
    "plt.plot(range(2, 15), inertia_wgan, label='WGAN Generated')\n",
    "plt.legend()\n",
    "plt.ylabel('Within-cluster sum of squares')\n",
    "plt.xlabel('Number of clusters')"
   ]
  }
 ],
 "metadata": {
  "kernelspec": {
   "display_name": "Python 2",
   "language": "python",
   "name": "python2"
  },
  "language_info": {
   "codemirror_mode": {
    "name": "ipython",
    "version": 2
   },
   "file_extension": ".py",
   "mimetype": "text/x-python",
   "name": "python",
   "nbconvert_exporter": "python",
   "pygments_lexer": "ipython2",
   "version": "2.7.10"
  },
  "latex_envs": {
   "bibliofile": "biblio.bib",
   "cite_by": "apalike",
   "current_citInitial": 1,
   "eqLabelWithNumbers": true,
   "eqNumInitial": 0
  }
 },
 "nbformat": 4,
 "nbformat_minor": 2
}
